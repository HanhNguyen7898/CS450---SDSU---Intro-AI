{
  "nbformat": 4,
  "nbformat_minor": 0,
  "metadata": {
    "colab": {
      "provenance": []
    },
    "kernelspec": {
      "name": "python3",
      "display_name": "Python 3"
    },
    "language_info": {
      "name": "python"
    }
  },
  "cells": [
    {
      "cell_type": "markdown",
      "source": [
        "### Sentiment Analysis\n",
        "* Sentiment analysis involves determining the sentiment of text.\n",
        "* In this lab, you will use a hotel review data set that includes reviews and a rating \n",
        " * There are other features that you can ignore, unless you want to use them to improve results\n",
        "* Your goal is to train a model that can predict the number of stars based on the text\n",
        "* This is the last programming assignment. We will use similar cleaning and discovery techniques as other assignments\n",
        " * ... except we need to add the fun of stop words, stemming / lemmatizing and similar exciting topics.\n",
        "* Dont forget to save this as a copy in your Google Colab environment\n",
        "\n"
      ],
      "metadata": {
        "id": "typeL4Gv8CRO"
      }
    },
    {
      "cell_type": "markdown",
      "source": [
        "* **Student Name:** Hanh Nguyen\n",
        "* **Partner Name:** Stephanie Chen "
      ],
      "metadata": {
        "id": "Y6kVJIdAH_he"
      }
    },
    {
      "cell_type": "markdown",
      "source": [
        "### Get the data\n",
        "* Either download the data and store it in your drive or use the Kaggle API to obtain the data from\n",
        " * https://www.kaggle.com/datasets/datafiniti/hotel-reviews"
      ],
      "metadata": {
        "id": "tJwqnYR6Isep"
      }
    },
    {
      "cell_type": "code",
      "source": [
        "import pandas as pd\n",
        "import sklearn as sk\n",
        "import math\n",
        "from google.colab import drive"
      ],
      "metadata": {
        "id": "XjC_YSdHfHv3"
      },
      "execution_count": 1,
      "outputs": []
    },
    {
      "cell_type": "code",
      "source": [
        "# Load the dataset \n",
        "\n",
        "drive.mount('/content/drive')\n",
        "path = \"/content/drive/Shareddrives/NLP/7282_1.csv\"\n",
        "data = pd.read_csv(path)"
      ],
      "metadata": {
        "id": "N0zX-hExenJ7",
        "colab": {
          "base_uri": "https://localhost:8080/"
        },
        "outputId": "9aebd4a1-1f06-46be-83c7-7fbe06ee36ac"
      },
      "execution_count": 2,
      "outputs": [
        {
          "output_type": "stream",
          "name": "stdout",
          "text": [
            "Drive already mounted at /content/drive; to attempt to forcibly remount, call drive.mount(\"/content/drive\", force_remount=True).\n"
          ]
        }
      ]
    },
    {
      "cell_type": "code",
      "source": [
        "data.head()"
      ],
      "metadata": {
        "colab": {
          "base_uri": "https://localhost:8080/",
          "height": 530
        },
        "id": "d2N_bDMbC514",
        "outputId": "bca0bbd2-ee1f-45d7-eedb-d0b37a40ba45"
      },
      "execution_count": 3,
      "outputs": [
        {
          "output_type": "execute_result",
          "data": {
            "text/plain": [
              "                  address categories      city country   latitude  longitude  \\\n",
              "0  Riviera San Nicol 11/a     Hotels  Mableton      US  45.421611  12.376187   \n",
              "1  Riviera San Nicol 11/a     Hotels  Mableton      US  45.421611  12.376187   \n",
              "2  Riviera San Nicol 11/a     Hotels  Mableton      US  45.421611  12.376187   \n",
              "3  Riviera San Nicol 11/a     Hotels  Mableton      US  45.421611  12.376187   \n",
              "4  Riviera San Nicol 11/a     Hotels  Mableton      US  45.421611  12.376187   \n",
              "\n",
              "                 name postalCode province          reviews.date  \\\n",
              "0  Hotel Russo Palace      30126       GA  2013-09-22T00:00:00Z   \n",
              "1  Hotel Russo Palace      30126       GA  2015-04-03T00:00:00Z   \n",
              "2  Hotel Russo Palace      30126       GA  2014-05-13T00:00:00Z   \n",
              "3  Hotel Russo Palace      30126       GA  2013-10-27T00:00:00Z   \n",
              "4  Hotel Russo Palace      30126       GA  2015-03-05T00:00:00Z   \n",
              "\n",
              "      reviews.dateAdded  reviews.doRecommend  reviews.id  reviews.rating  \\\n",
              "0  2016-10-24T00:00:25Z                  NaN         NaN             4.0   \n",
              "1  2016-10-24T00:00:25Z                  NaN         NaN             5.0   \n",
              "2  2016-10-24T00:00:25Z                  NaN         NaN             5.0   \n",
              "3  2016-10-24T00:00:25Z                  NaN         NaN             5.0   \n",
              "4  2016-10-24T00:00:25Z                  NaN         NaN             5.0   \n",
              "\n",
              "                                        reviews.text  \\\n",
              "0  Pleasant 10 min walk along the sea front to th...   \n",
              "1  Really lovely hotel. Stayed on the very top fl...   \n",
              "2  Ett mycket bra hotell. Det som drog ner betyge...   \n",
              "3  We stayed here for four nights in October. The...   \n",
              "4  We stayed here for four nights in October. The...   \n",
              "\n",
              "                        reviews.title reviews.userCity reviews.username  \\\n",
              "0  Good location away from the crouds              NaN      Russ (kent)   \n",
              "1      Great hotel with Jacuzzi bath!              NaN       A Traveler   \n",
              "2                         Lugnt l��ge              NaN             Maud   \n",
              "3          Good location on the Lido.              NaN            Julie   \n",
              "4              ������ ���������������              NaN         sungchul   \n",
              "\n",
              "  reviews.userProvince  \n",
              "0                  NaN  \n",
              "1                  NaN  \n",
              "2                  NaN  \n",
              "3                  NaN  \n",
              "4                  NaN  "
            ],
            "text/html": [
              "\n",
              "  <div id=\"df-91552554-c8a9-438a-8786-40eda10edbc3\">\n",
              "    <div class=\"colab-df-container\">\n",
              "      <div>\n",
              "<style scoped>\n",
              "    .dataframe tbody tr th:only-of-type {\n",
              "        vertical-align: middle;\n",
              "    }\n",
              "\n",
              "    .dataframe tbody tr th {\n",
              "        vertical-align: top;\n",
              "    }\n",
              "\n",
              "    .dataframe thead th {\n",
              "        text-align: right;\n",
              "    }\n",
              "</style>\n",
              "<table border=\"1\" class=\"dataframe\">\n",
              "  <thead>\n",
              "    <tr style=\"text-align: right;\">\n",
              "      <th></th>\n",
              "      <th>address</th>\n",
              "      <th>categories</th>\n",
              "      <th>city</th>\n",
              "      <th>country</th>\n",
              "      <th>latitude</th>\n",
              "      <th>longitude</th>\n",
              "      <th>name</th>\n",
              "      <th>postalCode</th>\n",
              "      <th>province</th>\n",
              "      <th>reviews.date</th>\n",
              "      <th>reviews.dateAdded</th>\n",
              "      <th>reviews.doRecommend</th>\n",
              "      <th>reviews.id</th>\n",
              "      <th>reviews.rating</th>\n",
              "      <th>reviews.text</th>\n",
              "      <th>reviews.title</th>\n",
              "      <th>reviews.userCity</th>\n",
              "      <th>reviews.username</th>\n",
              "      <th>reviews.userProvince</th>\n",
              "    </tr>\n",
              "  </thead>\n",
              "  <tbody>\n",
              "    <tr>\n",
              "      <th>0</th>\n",
              "      <td>Riviera San Nicol 11/a</td>\n",
              "      <td>Hotels</td>\n",
              "      <td>Mableton</td>\n",
              "      <td>US</td>\n",
              "      <td>45.421611</td>\n",
              "      <td>12.376187</td>\n",
              "      <td>Hotel Russo Palace</td>\n",
              "      <td>30126</td>\n",
              "      <td>GA</td>\n",
              "      <td>2013-09-22T00:00:00Z</td>\n",
              "      <td>2016-10-24T00:00:25Z</td>\n",
              "      <td>NaN</td>\n",
              "      <td>NaN</td>\n",
              "      <td>4.0</td>\n",
              "      <td>Pleasant 10 min walk along the sea front to th...</td>\n",
              "      <td>Good location away from the crouds</td>\n",
              "      <td>NaN</td>\n",
              "      <td>Russ (kent)</td>\n",
              "      <td>NaN</td>\n",
              "    </tr>\n",
              "    <tr>\n",
              "      <th>1</th>\n",
              "      <td>Riviera San Nicol 11/a</td>\n",
              "      <td>Hotels</td>\n",
              "      <td>Mableton</td>\n",
              "      <td>US</td>\n",
              "      <td>45.421611</td>\n",
              "      <td>12.376187</td>\n",
              "      <td>Hotel Russo Palace</td>\n",
              "      <td>30126</td>\n",
              "      <td>GA</td>\n",
              "      <td>2015-04-03T00:00:00Z</td>\n",
              "      <td>2016-10-24T00:00:25Z</td>\n",
              "      <td>NaN</td>\n",
              "      <td>NaN</td>\n",
              "      <td>5.0</td>\n",
              "      <td>Really lovely hotel. Stayed on the very top fl...</td>\n",
              "      <td>Great hotel with Jacuzzi bath!</td>\n",
              "      <td>NaN</td>\n",
              "      <td>A Traveler</td>\n",
              "      <td>NaN</td>\n",
              "    </tr>\n",
              "    <tr>\n",
              "      <th>2</th>\n",
              "      <td>Riviera San Nicol 11/a</td>\n",
              "      <td>Hotels</td>\n",
              "      <td>Mableton</td>\n",
              "      <td>US</td>\n",
              "      <td>45.421611</td>\n",
              "      <td>12.376187</td>\n",
              "      <td>Hotel Russo Palace</td>\n",
              "      <td>30126</td>\n",
              "      <td>GA</td>\n",
              "      <td>2014-05-13T00:00:00Z</td>\n",
              "      <td>2016-10-24T00:00:25Z</td>\n",
              "      <td>NaN</td>\n",
              "      <td>NaN</td>\n",
              "      <td>5.0</td>\n",
              "      <td>Ett mycket bra hotell. Det som drog ner betyge...</td>\n",
              "      <td>Lugnt l��ge</td>\n",
              "      <td>NaN</td>\n",
              "      <td>Maud</td>\n",
              "      <td>NaN</td>\n",
              "    </tr>\n",
              "    <tr>\n",
              "      <th>3</th>\n",
              "      <td>Riviera San Nicol 11/a</td>\n",
              "      <td>Hotels</td>\n",
              "      <td>Mableton</td>\n",
              "      <td>US</td>\n",
              "      <td>45.421611</td>\n",
              "      <td>12.376187</td>\n",
              "      <td>Hotel Russo Palace</td>\n",
              "      <td>30126</td>\n",
              "      <td>GA</td>\n",
              "      <td>2013-10-27T00:00:00Z</td>\n",
              "      <td>2016-10-24T00:00:25Z</td>\n",
              "      <td>NaN</td>\n",
              "      <td>NaN</td>\n",
              "      <td>5.0</td>\n",
              "      <td>We stayed here for four nights in October. The...</td>\n",
              "      <td>Good location on the Lido.</td>\n",
              "      <td>NaN</td>\n",
              "      <td>Julie</td>\n",
              "      <td>NaN</td>\n",
              "    </tr>\n",
              "    <tr>\n",
              "      <th>4</th>\n",
              "      <td>Riviera San Nicol 11/a</td>\n",
              "      <td>Hotels</td>\n",
              "      <td>Mableton</td>\n",
              "      <td>US</td>\n",
              "      <td>45.421611</td>\n",
              "      <td>12.376187</td>\n",
              "      <td>Hotel Russo Palace</td>\n",
              "      <td>30126</td>\n",
              "      <td>GA</td>\n",
              "      <td>2015-03-05T00:00:00Z</td>\n",
              "      <td>2016-10-24T00:00:25Z</td>\n",
              "      <td>NaN</td>\n",
              "      <td>NaN</td>\n",
              "      <td>5.0</td>\n",
              "      <td>We stayed here for four nights in October. The...</td>\n",
              "      <td>������ ���������������</td>\n",
              "      <td>NaN</td>\n",
              "      <td>sungchul</td>\n",
              "      <td>NaN</td>\n",
              "    </tr>\n",
              "  </tbody>\n",
              "</table>\n",
              "</div>\n",
              "      <button class=\"colab-df-convert\" onclick=\"convertToInteractive('df-91552554-c8a9-438a-8786-40eda10edbc3')\"\n",
              "              title=\"Convert this dataframe to an interactive table.\"\n",
              "              style=\"display:none;\">\n",
              "        \n",
              "  <svg xmlns=\"http://www.w3.org/2000/svg\" height=\"24px\"viewBox=\"0 0 24 24\"\n",
              "       width=\"24px\">\n",
              "    <path d=\"M0 0h24v24H0V0z\" fill=\"none\"/>\n",
              "    <path d=\"M18.56 5.44l.94 2.06.94-2.06 2.06-.94-2.06-.94-.94-2.06-.94 2.06-2.06.94zm-11 1L8.5 8.5l.94-2.06 2.06-.94-2.06-.94L8.5 2.5l-.94 2.06-2.06.94zm10 10l.94 2.06.94-2.06 2.06-.94-2.06-.94-.94-2.06-.94 2.06-2.06.94z\"/><path d=\"M17.41 7.96l-1.37-1.37c-.4-.4-.92-.59-1.43-.59-.52 0-1.04.2-1.43.59L10.3 9.45l-7.72 7.72c-.78.78-.78 2.05 0 2.83L4 21.41c.39.39.9.59 1.41.59.51 0 1.02-.2 1.41-.59l7.78-7.78 2.81-2.81c.8-.78.8-2.07 0-2.86zM5.41 20L4 18.59l7.72-7.72 1.47 1.35L5.41 20z\"/>\n",
              "  </svg>\n",
              "      </button>\n",
              "      \n",
              "  <style>\n",
              "    .colab-df-container {\n",
              "      display:flex;\n",
              "      flex-wrap:wrap;\n",
              "      gap: 12px;\n",
              "    }\n",
              "\n",
              "    .colab-df-convert {\n",
              "      background-color: #E8F0FE;\n",
              "      border: none;\n",
              "      border-radius: 50%;\n",
              "      cursor: pointer;\n",
              "      display: none;\n",
              "      fill: #1967D2;\n",
              "      height: 32px;\n",
              "      padding: 0 0 0 0;\n",
              "      width: 32px;\n",
              "    }\n",
              "\n",
              "    .colab-df-convert:hover {\n",
              "      background-color: #E2EBFA;\n",
              "      box-shadow: 0px 1px 2px rgba(60, 64, 67, 0.3), 0px 1px 3px 1px rgba(60, 64, 67, 0.15);\n",
              "      fill: #174EA6;\n",
              "    }\n",
              "\n",
              "    [theme=dark] .colab-df-convert {\n",
              "      background-color: #3B4455;\n",
              "      fill: #D2E3FC;\n",
              "    }\n",
              "\n",
              "    [theme=dark] .colab-df-convert:hover {\n",
              "      background-color: #434B5C;\n",
              "      box-shadow: 0px 1px 3px 1px rgba(0, 0, 0, 0.15);\n",
              "      filter: drop-shadow(0px 1px 2px rgba(0, 0, 0, 0.3));\n",
              "      fill: #FFFFFF;\n",
              "    }\n",
              "  </style>\n",
              "\n",
              "      <script>\n",
              "        const buttonEl =\n",
              "          document.querySelector('#df-91552554-c8a9-438a-8786-40eda10edbc3 button.colab-df-convert');\n",
              "        buttonEl.style.display =\n",
              "          google.colab.kernel.accessAllowed ? 'block' : 'none';\n",
              "\n",
              "        async function convertToInteractive(key) {\n",
              "          const element = document.querySelector('#df-91552554-c8a9-438a-8786-40eda10edbc3');\n",
              "          const dataTable =\n",
              "            await google.colab.kernel.invokeFunction('convertToInteractive',\n",
              "                                                     [key], {});\n",
              "          if (!dataTable) return;\n",
              "\n",
              "          const docLinkHtml = 'Like what you see? Visit the ' +\n",
              "            '<a target=\"_blank\" href=https://colab.research.google.com/notebooks/data_table.ipynb>data table notebook</a>'\n",
              "            + ' to learn more about interactive tables.';\n",
              "          element.innerHTML = '';\n",
              "          dataTable['output_type'] = 'display_data';\n",
              "          await google.colab.output.renderOutput(dataTable, element);\n",
              "          const docLink = document.createElement('div');\n",
              "          docLink.innerHTML = docLinkHtml;\n",
              "          element.appendChild(docLink);\n",
              "        }\n",
              "      </script>\n",
              "    </div>\n",
              "  </div>\n",
              "  "
            ]
          },
          "metadata": {},
          "execution_count": 3
        }
      ]
    },
    {
      "cell_type": "markdown",
      "source": [
        "### Explore and Clean the Data"
      ],
      "metadata": {
        "id": "cZPC5CpfIxgp"
      }
    },
    {
      "cell_type": "code",
      "source": [
        "data = data.drop_duplicates(subset = ['reviews.text'])"
      ],
      "metadata": {
        "id": "2hnUSmVAgCXT"
      },
      "execution_count": 4,
      "outputs": []
    },
    {
      "cell_type": "code",
      "source": [
        "!pip install langdetect"
      ],
      "metadata": {
        "colab": {
          "base_uri": "https://localhost:8080/"
        },
        "id": "x7nTPjndfXww",
        "outputId": "992a1810-b016-4a5a-888d-6787f001b053"
      },
      "execution_count": 5,
      "outputs": [
        {
          "output_type": "stream",
          "name": "stdout",
          "text": [
            "Looking in indexes: https://pypi.org/simple, https://us-python.pkg.dev/colab-wheels/public/simple/\n",
            "Requirement already satisfied: langdetect in /usr/local/lib/python3.10/dist-packages (1.0.9)\n",
            "Requirement already satisfied: six in /usr/local/lib/python3.10/dist-packages (from langdetect) (1.16.0)\n"
          ]
        }
      ]
    },
    {
      "cell_type": "code",
      "source": [
        "review=pd.DataFrame(data.groupby('reviews.rating').size().sort_values(ascending=False).rename('No of Users').reset_index())\n",
        "review.head()"
      ],
      "metadata": {
        "colab": {
          "base_uri": "https://localhost:8080/",
          "height": 206
        },
        "id": "7n3eE4oMDMw1",
        "outputId": "f6a3f652-f9e0-4f5d-a177-349c22bdc5d3"
      },
      "execution_count": 6,
      "outputs": [
        {
          "output_type": "execute_result",
          "data": {
            "text/plain": [
              "   reviews.rating  No of Users\n",
              "0             5.0        12274\n",
              "1             4.0         9402\n",
              "2             3.0         5510\n",
              "3             1.0         2970\n",
              "4             2.0         2907"
            ],
            "text/html": [
              "\n",
              "  <div id=\"df-69f7b7ae-95c5-438a-9f16-4d0f62584c86\">\n",
              "    <div class=\"colab-df-container\">\n",
              "      <div>\n",
              "<style scoped>\n",
              "    .dataframe tbody tr th:only-of-type {\n",
              "        vertical-align: middle;\n",
              "    }\n",
              "\n",
              "    .dataframe tbody tr th {\n",
              "        vertical-align: top;\n",
              "    }\n",
              "\n",
              "    .dataframe thead th {\n",
              "        text-align: right;\n",
              "    }\n",
              "</style>\n",
              "<table border=\"1\" class=\"dataframe\">\n",
              "  <thead>\n",
              "    <tr style=\"text-align: right;\">\n",
              "      <th></th>\n",
              "      <th>reviews.rating</th>\n",
              "      <th>No of Users</th>\n",
              "    </tr>\n",
              "  </thead>\n",
              "  <tbody>\n",
              "    <tr>\n",
              "      <th>0</th>\n",
              "      <td>5.0</td>\n",
              "      <td>12274</td>\n",
              "    </tr>\n",
              "    <tr>\n",
              "      <th>1</th>\n",
              "      <td>4.0</td>\n",
              "      <td>9402</td>\n",
              "    </tr>\n",
              "    <tr>\n",
              "      <th>2</th>\n",
              "      <td>3.0</td>\n",
              "      <td>5510</td>\n",
              "    </tr>\n",
              "    <tr>\n",
              "      <th>3</th>\n",
              "      <td>1.0</td>\n",
              "      <td>2970</td>\n",
              "    </tr>\n",
              "    <tr>\n",
              "      <th>4</th>\n",
              "      <td>2.0</td>\n",
              "      <td>2907</td>\n",
              "    </tr>\n",
              "  </tbody>\n",
              "</table>\n",
              "</div>\n",
              "      <button class=\"colab-df-convert\" onclick=\"convertToInteractive('df-69f7b7ae-95c5-438a-9f16-4d0f62584c86')\"\n",
              "              title=\"Convert this dataframe to an interactive table.\"\n",
              "              style=\"display:none;\">\n",
              "        \n",
              "  <svg xmlns=\"http://www.w3.org/2000/svg\" height=\"24px\"viewBox=\"0 0 24 24\"\n",
              "       width=\"24px\">\n",
              "    <path d=\"M0 0h24v24H0V0z\" fill=\"none\"/>\n",
              "    <path d=\"M18.56 5.44l.94 2.06.94-2.06 2.06-.94-2.06-.94-.94-2.06-.94 2.06-2.06.94zm-11 1L8.5 8.5l.94-2.06 2.06-.94-2.06-.94L8.5 2.5l-.94 2.06-2.06.94zm10 10l.94 2.06.94-2.06 2.06-.94-2.06-.94-.94-2.06-.94 2.06-2.06.94z\"/><path d=\"M17.41 7.96l-1.37-1.37c-.4-.4-.92-.59-1.43-.59-.52 0-1.04.2-1.43.59L10.3 9.45l-7.72 7.72c-.78.78-.78 2.05 0 2.83L4 21.41c.39.39.9.59 1.41.59.51 0 1.02-.2 1.41-.59l7.78-7.78 2.81-2.81c.8-.78.8-2.07 0-2.86zM5.41 20L4 18.59l7.72-7.72 1.47 1.35L5.41 20z\"/>\n",
              "  </svg>\n",
              "      </button>\n",
              "      \n",
              "  <style>\n",
              "    .colab-df-container {\n",
              "      display:flex;\n",
              "      flex-wrap:wrap;\n",
              "      gap: 12px;\n",
              "    }\n",
              "\n",
              "    .colab-df-convert {\n",
              "      background-color: #E8F0FE;\n",
              "      border: none;\n",
              "      border-radius: 50%;\n",
              "      cursor: pointer;\n",
              "      display: none;\n",
              "      fill: #1967D2;\n",
              "      height: 32px;\n",
              "      padding: 0 0 0 0;\n",
              "      width: 32px;\n",
              "    }\n",
              "\n",
              "    .colab-df-convert:hover {\n",
              "      background-color: #E2EBFA;\n",
              "      box-shadow: 0px 1px 2px rgba(60, 64, 67, 0.3), 0px 1px 3px 1px rgba(60, 64, 67, 0.15);\n",
              "      fill: #174EA6;\n",
              "    }\n",
              "\n",
              "    [theme=dark] .colab-df-convert {\n",
              "      background-color: #3B4455;\n",
              "      fill: #D2E3FC;\n",
              "    }\n",
              "\n",
              "    [theme=dark] .colab-df-convert:hover {\n",
              "      background-color: #434B5C;\n",
              "      box-shadow: 0px 1px 3px 1px rgba(0, 0, 0, 0.15);\n",
              "      filter: drop-shadow(0px 1px 2px rgba(0, 0, 0, 0.3));\n",
              "      fill: #FFFFFF;\n",
              "    }\n",
              "  </style>\n",
              "\n",
              "      <script>\n",
              "        const buttonEl =\n",
              "          document.querySelector('#df-69f7b7ae-95c5-438a-9f16-4d0f62584c86 button.colab-df-convert');\n",
              "        buttonEl.style.display =\n",
              "          google.colab.kernel.accessAllowed ? 'block' : 'none';\n",
              "\n",
              "        async function convertToInteractive(key) {\n",
              "          const element = document.querySelector('#df-69f7b7ae-95c5-438a-9f16-4d0f62584c86');\n",
              "          const dataTable =\n",
              "            await google.colab.kernel.invokeFunction('convertToInteractive',\n",
              "                                                     [key], {});\n",
              "          if (!dataTable) return;\n",
              "\n",
              "          const docLinkHtml = 'Like what you see? Visit the ' +\n",
              "            '<a target=\"_blank\" href=https://colab.research.google.com/notebooks/data_table.ipynb>data table notebook</a>'\n",
              "            + ' to learn more about interactive tables.';\n",
              "          element.innerHTML = '';\n",
              "          dataTable['output_type'] = 'display_data';\n",
              "          await google.colab.output.renderOutput(dataTable, element);\n",
              "          const docLink = document.createElement('div');\n",
              "          docLink.innerHTML = docLinkHtml;\n",
              "          element.appendChild(docLink);\n",
              "        }\n",
              "      </script>\n",
              "    </div>\n",
              "  </div>\n",
              "  "
            ]
          },
          "metadata": {},
          "execution_count": 6
        }
      ]
    },
    {
      "cell_type": "code",
      "source": [
        "import re\n",
        "import nltk\n",
        "import string\n",
        "import nltk\n",
        "import tensorflow as tf\n",
        "import numpy as np\n",
        "import seaborn as sns\n",
        "import matplotlib.pyplot as plt\n",
        "\n",
        "from tensorflow.keras.layers import Dense\n",
        "from keras.models import Model\n",
        "from nltk.corpus import stopwords\n",
        "from nltk.tokenize import word_tokenize\n",
        "from nltk.stem import WordNetLemmatizer\n",
        "from nltk.stem import PorterStemmer\n",
        "from langdetect import detect\n",
        "from sklearn.model_selection import train_test_split\n",
        "from sklearn.feature_extraction.text import TfidfVectorizer\n",
        "from sklearn.feature_extraction.text import CountVectorizer\n",
        "from itertools import chain\n",
        "from sklearn.metrics import classification_report\n",
        "from sklearn.naive_bayes import BernoulliNB\n",
        "from sklearn.metrics import confusion_matrix\n",
        "from sklearn.svm import LinearSVC\n",
        "from sklearn.metrics import f1_score\n",
        "\n",
        "nltk.download('stopwords')\n",
        "nltk.download('punkt')\n",
        "nltk.download('wordnet')\n",
        "nltk.download('averaged_perceptron_tagger')"
      ],
      "metadata": {
        "colab": {
          "base_uri": "https://localhost:8080/"
        },
        "id": "k-H7ftc8cAiV",
        "outputId": "422ae4dd-116c-449d-d770-115fa58977a3"
      },
      "execution_count": 7,
      "outputs": [
        {
          "output_type": "stream",
          "name": "stderr",
          "text": [
            "[nltk_data] Downloading package stopwords to /root/nltk_data...\n",
            "[nltk_data]   Package stopwords is already up-to-date!\n",
            "[nltk_data] Downloading package punkt to /root/nltk_data...\n",
            "[nltk_data]   Package punkt is already up-to-date!\n",
            "[nltk_data] Downloading package wordnet to /root/nltk_data...\n",
            "[nltk_data]   Package wordnet is already up-to-date!\n",
            "[nltk_data] Downloading package averaged_perceptron_tagger to\n",
            "[nltk_data]     /root/nltk_data...\n",
            "[nltk_data]   Package averaged_perceptron_tagger is already up-to-\n",
            "[nltk_data]       date!\n"
          ]
        },
        {
          "output_type": "execute_result",
          "data": {
            "text/plain": [
              "True"
            ]
          },
          "metadata": {},
          "execution_count": 7
        }
      ]
    },
    {
      "cell_type": "code",
      "source": [
        "# Create clean data set with rating and text reviews columns. Drop null\n",
        "cleanData = data[['reviews.rating', 'reviews.text']]\n",
        "cleanData = cleanData.dropna()\n",
        "print(cleanData.isnull().sum())\n",
        "\n",
        "# Change objects into int/string and lowercase, remove non-letter rows\n",
        "cleanData['reviews.rating'] = cleanData['reviews.rating'].astype(int)\n",
        "cleanData['reviews.text'] = cleanData['reviews.text']\n",
        "cleanData['reviews.text'] = cleanData['reviews.text'].str.lower()\n",
        "cleanData = cleanData[cleanData['reviews.text'].astype(str).str.contains('[a-zA-Z]', na=False)]\n",
        "\n",
        "# Remove non-alphabetical/symbol/bad rows\n",
        "cleanData['reviews.text'].replace(to_replace='[^\\w]+', value=' ',inplace=True,regex=True)\n",
        "cleanData = cleanData[cleanData['reviews.text'] != 'xxxxxxxxxxxxxxxxxxxxxxxxxxxxxxxxxxxxxxxxxx']\n",
        "cleanData = cleanData[~cleanData['reviews.text'].str.startswith(' ')]\n",
        "cleanData = cleanData[cleanData['reviews.text'].astype(str).str.contains('[a-zA-Z]', na=False)]\n",
        "\n",
        "# Remove non-English rows\n",
        "cleanData = cleanData[cleanData['reviews.text'].astype(str).apply(detect).eq('en')]\n",
        "\n",
        "# Set stop words\n",
        "stop_words = stopwords.words('english')\n",
        "new_stop = ['10', 'min', 'along', 'etc', 'quite', 'take', 'know', 'hotel', 'lido', 'onto', \\\n",
        "             'way']\n",
        "stop_words.extend(new_stop)\n",
        "\n",
        "# Tokenize, make lowercase, remove non english\n",
        "for i, row in cleanData.iterrows():\n",
        "    word_tokens = word_tokenize(cleanData['reviews.text'][i].lower())\n",
        "    filtered_sentence = []\n",
        "    for w in word_tokens:\n",
        "        if w not in stop_words:\n",
        "            filtered_sentence.append(w)\n",
        "    cleanData['reviews.text'][i] = filtered_sentence\n",
        "stopData = cleanData[cleanData['reviews.text'].astype(str).str.contains('[a-zA-Z]', na=False)]\n",
        "\n",
        "# Lem words\n",
        "lemmatizer = WordNetLemmatizer()\n",
        "lemmedData = stopData\n",
        "for i, row in stopData.iterrows():\n",
        "    words = lemmedData['reviews.text'][i]\n",
        "    lemmedData['reviews.text'][i] = [lemmatizer.lemmatize(word) for word in words]\n",
        "\n"
      ],
      "metadata": {
        "colab": {
          "base_uri": "https://localhost:8080/"
        },
        "id": "qZNFbZWWfcep",
        "outputId": "66446811-f693-4b0f-a462-b45caeb80ac5"
      },
      "execution_count": 8,
      "outputs": [
        {
          "output_type": "stream",
          "name": "stdout",
          "text": [
            "reviews.rating    0\n",
            "reviews.text      0\n",
            "dtype: int64\n"
          ]
        },
        {
          "output_type": "stream",
          "name": "stderr",
          "text": [
            "<ipython-input-8-248a8b2eb1f5>:34: SettingWithCopyWarning: \n",
            "A value is trying to be set on a copy of a slice from a DataFrame\n",
            "\n",
            "See the caveats in the documentation: https://pandas.pydata.org/pandas-docs/stable/user_guide/indexing.html#returning-a-view-versus-a-copy\n",
            "  cleanData['reviews.text'][i] = filtered_sentence\n",
            "<ipython-input-8-248a8b2eb1f5>:42: SettingWithCopyWarning: \n",
            "A value is trying to be set on a copy of a slice from a DataFrame\n",
            "\n",
            "See the caveats in the documentation: https://pandas.pydata.org/pandas-docs/stable/user_guide/indexing.html#returning-a-view-versus-a-copy\n",
            "  lemmedData['reviews.text'][i] = [lemmatizer.lemmatize(word) for word in words]\n"
          ]
        }
      ]
    },
    {
      "cell_type": "code",
      "source": [
        "joinedData = lemmedData\n",
        "joinedData['reviews.text'] = [\" \".join(x) for x in lemmedData['reviews.text']]"
      ],
      "metadata": {
        "colab": {
          "base_uri": "https://localhost:8080/"
        },
        "id": "gH6UCuc4gmfC",
        "outputId": "f96a4dbd-181f-45cd-d55b-7b6822bd4430"
      },
      "execution_count": 9,
      "outputs": [
        {
          "output_type": "stream",
          "name": "stderr",
          "text": [
            "<ipython-input-9-9cc221a7dde3>:2: SettingWithCopyWarning: \n",
            "A value is trying to be set on a copy of a slice from a DataFrame.\n",
            "Try using .loc[row_indexer,col_indexer] = value instead\n",
            "\n",
            "See the caveats in the documentation: https://pandas.pydata.org/pandas-docs/stable/user_guide/indexing.html#returning-a-view-versus-a-copy\n",
            "  joinedData['reviews.text'] = [\" \".join(x) for x in lemmedData['reviews.text']]\n"
          ]
        }
      ]
    },
    {
      "cell_type": "markdown",
      "source": [
        "### Train the Model\n",
        "* Train the model using 90% of the data\n",
        "* You may choose whichever model technique you choose"
      ],
      "metadata": {
        "id": "tptdq4z_z_zr"
      }
    },
    {
      "cell_type": "code",
      "source": [
        "X = joinedData['reviews.text']\n",
        "y = joinedData['reviews.rating']\n",
        "X_train, X_test, y_train, y_test = train_test_split(X,y,test_size = 0.1, random_state =40)"
      ],
      "metadata": {
        "id": "BNRXiyZU0RZC"
      },
      "execution_count": 10,
      "outputs": []
    },
    {
      "cell_type": "code",
      "source": [
        "vectoriser = TfidfVectorizer(ngram_range=(1,2), max_features=500000)\n",
        "vectoriser.fit(X_train)\n",
        "print('No. of feature_words: ', len(vectoriser.get_feature_names_out()))"
      ],
      "metadata": {
        "colab": {
          "base_uri": "https://localhost:8080/"
        },
        "id": "Y108AtFihiYo",
        "outputId": "b51abd69-6ad5-4649-b920-2b0b42596d38"
      },
      "execution_count": 11,
      "outputs": [
        {
          "output_type": "stream",
          "name": "stdout",
          "text": [
            "No. of feature_words:  329269\n"
          ]
        }
      ]
    },
    {
      "cell_type": "code",
      "source": [
        "X_train = vectoriser.transform(X_train)\n",
        "X_test  = vectoriser.transform(X_test)"
      ],
      "metadata": {
        "id": "iFUQfrujhmJ9"
      },
      "execution_count": 12,
      "outputs": []
    },
    {
      "cell_type": "markdown",
      "source": [
        "### Test the Model \n",
        "* Test the model using the remaining 10% of the data\n",
        "* The testing results will depend on the model you use\n",
        " * If the rating is evaluated as a number, you need to look at values such as mean square error\n",
        " * If you are using categories, then you can use accuracy, but you may want to collapse the categories from 1 to 5 to 3 categories such as bad, neutral, and good."
      ],
      "metadata": {
        "id": "SgZ8Xs890Rtj"
      }
    },
    {
      "cell_type": "code",
      "source": [
        "def model_Evaluate(model):\n",
        "    # Predict values for Test dataset\n",
        "    y_pred = model.predict(X_test)\n",
        "    # Print the evaluation metrics for the dataset.\n",
        "    print(classification_report(y_test, y_pred))\n",
        "    # Compute and plot the Confusion matrix\n",
        "    cf_matrix = confusion_matrix(y_test, y_pred)\n",
        "    categories = ['Negative','Positive']\n",
        "    group_names = ['True Neg','False Pos', 'False Neg','True Pos']\n",
        "    group_percentages = ['{0:.2%}'.format(value) for value in cf_matrix.flatten() / np.sum(cf_matrix)]\n",
        "    labels = [f'{v1}n{v2}' for v1, v2 in zip(group_names,group_percentages)]\n",
        "    labels = np.asarray(labels).reshape(2,2)\n",
        "    sns.heatmap(cf_matrix, annot = True, cmap = 'Blues',fmt = '',\n",
        "    xticklabels = categories, yticklabels = categories)\n",
        "    plt.xlabel(\"Predicted values\", fontdict = {'size':14}, labelpad = 10)\n",
        "    plt.ylabel(\"Actual values\" , fontdict = {'size':14}, labelpad = 10)\n",
        "    plt.title (\"Confusion Matrix\", fontdict = {'size':18}, pad = 20)"
      ],
      "metadata": {
        "id": "Vkx7ycBAhwt4"
      },
      "execution_count": 13,
      "outputs": []
    },
    {
      "cell_type": "code",
      "source": [
        "BNBmodel = BernoulliNB()\n",
        "BNBmodel.fit(X_train, y_train)\n",
        "model_Evaluate(BNBmodel)\n",
        "y_pred1 = BNBmodel.predict(X_test)"
      ],
      "metadata": {
        "id": "PfbYZg_L0Yi0",
        "colab": {
          "base_uri": "https://localhost:8080/",
          "height": 994
        },
        "outputId": "b0664bf3-fdd9-4524-e6ea-ea2ce59ae3f5"
      },
      "execution_count": 14,
      "outputs": [
        {
          "output_type": "stream",
          "name": "stderr",
          "text": [
            "/usr/local/lib/python3.10/dist-packages/sklearn/metrics/_classification.py:1344: UndefinedMetricWarning: Precision and F-score are ill-defined and being set to 0.0 in labels with no predicted samples. Use `zero_division` parameter to control this behavior.\n",
            "  _warn_prf(average, modifier, msg_start, len(result))\n",
            "/usr/local/lib/python3.10/dist-packages/sklearn/metrics/_classification.py:1344: UndefinedMetricWarning: Precision and F-score are ill-defined and being set to 0.0 in labels with no predicted samples. Use `zero_division` parameter to control this behavior.\n",
            "  _warn_prf(average, modifier, msg_start, len(result))\n",
            "/usr/local/lib/python3.10/dist-packages/sklearn/metrics/_classification.py:1344: UndefinedMetricWarning: Precision and F-score are ill-defined and being set to 0.0 in labels with no predicted samples. Use `zero_division` parameter to control this behavior.\n",
            "  _warn_prf(average, modifier, msg_start, len(result))\n"
          ]
        },
        {
          "output_type": "stream",
          "name": "stdout",
          "text": [
            "              precision    recall  f1-score   support\n",
            "\n",
            "           0       0.00      0.00      0.00         3\n",
            "           1       0.77      0.04      0.07       280\n",
            "           2       0.00      0.00      0.00       274\n",
            "           3       0.18      0.02      0.04       542\n",
            "           4       0.25      0.15      0.19       876\n",
            "           5       0.44      0.98      0.61      1161\n",
            "           6       0.00      0.00      0.00         2\n",
            "           7       0.00      0.00      0.00         7\n",
            "           8       0.00      0.00      0.00         1\n",
            "           9       0.00      0.00      0.00        11\n",
            "          10       0.00      0.00      0.00         9\n",
            "\n",
            "    accuracy                           0.41      3166\n",
            "   macro avg       0.15      0.11      0.08      3166\n",
            "weighted avg       0.33      0.41      0.29      3166\n",
            "\n"
          ]
        },
        {
          "output_type": "display_data",
          "data": {
            "text/plain": [
              "<Figure size 640x480 with 2 Axes>"
            ],
            "image/png": "[encoded data removed]"
          },
          "metadata": {}
        }
      ]
    },
    {
      "cell_type": "code",
      "source": [
        "SVCmodel = LinearSVC()\n",
        "SVCmodel.fit(X_train, y_train)\n",
        "model_Evaluate(SVCmodel)\n",
        "y_pred2 = SVCmodel.predict(X_test)"
      ],
      "metadata": {
        "colab": {
          "base_uri": "https://localhost:8080/",
          "height": 994
        },
        "id": "K01YB03kiVlM",
        "outputId": "7e17d96b-d21f-4e7f-cf0b-0d9b28da3994"
      },
      "execution_count": 15,
      "outputs": [
        {
          "output_type": "stream",
          "name": "stderr",
          "text": [
            "/usr/local/lib/python3.10/dist-packages/sklearn/metrics/_classification.py:1344: UndefinedMetricWarning: Precision and F-score are ill-defined and being set to 0.0 in labels with no predicted samples. Use `zero_division` parameter to control this behavior.\n",
            "  _warn_prf(average, modifier, msg_start, len(result))\n",
            "/usr/local/lib/python3.10/dist-packages/sklearn/metrics/_classification.py:1344: UndefinedMetricWarning: Precision and F-score are ill-defined and being set to 0.0 in labels with no predicted samples. Use `zero_division` parameter to control this behavior.\n",
            "  _warn_prf(average, modifier, msg_start, len(result))\n",
            "/usr/local/lib/python3.10/dist-packages/sklearn/metrics/_classification.py:1344: UndefinedMetricWarning: Precision and F-score are ill-defined and being set to 0.0 in labels with no predicted samples. Use `zero_division` parameter to control this behavior.\n",
            "  _warn_prf(average, modifier, msg_start, len(result))\n"
          ]
        },
        {
          "output_type": "stream",
          "name": "stdout",
          "text": [
            "              precision    recall  f1-score   support\n",
            "\n",
            "           0       1.00      0.33      0.50         3\n",
            "           1       0.55      0.65      0.60       280\n",
            "           2       0.35      0.20      0.25       274\n",
            "           3       0.39      0.30      0.34       542\n",
            "           4       0.45      0.41      0.43       876\n",
            "           5       0.62      0.78      0.69      1161\n",
            "           6       0.00      0.00      0.00         2\n",
            "           7       0.00      0.00      0.00         7\n",
            "           8       0.00      0.00      0.00         1\n",
            "           9       0.00      0.00      0.00        11\n",
            "          10       0.00      0.00      0.00         9\n",
            "\n",
            "    accuracy                           0.53      3166\n",
            "   macro avg       0.31      0.24      0.26      3166\n",
            "weighted avg       0.50      0.53      0.51      3166\n",
            "\n"
          ]
        },
        {
          "output_type": "display_data",
          "data": {
            "text/plain": [
              "<Figure size 640x480 with 2 Axes>"
            ],
            "image/png": "[encoded data removed]"
          },
          "metadata": {}
        }
      ]
    },
    {
      "cell_type": "markdown",
      "source": [
        "### Provide an explanation of your model and results"
      ],
      "metadata": {
        "id": "OaXo8jUy0WUS"
      }
    },
    {
      "cell_type": "code",
      "source": [
        "print(\"Bernoulii Naive Bayes f1_score: \", f1_score(y_test, y_pred1, average='micro'))\n",
        "print(\"LinearSVC f1_score: \", f1_score(y_test, y_pred2, average='micro'))"
      ],
      "metadata": {
        "colab": {
          "base_uri": "https://localhost:8080/"
        },
        "id": "2j6xo8E5h35w",
        "outputId": "458606bb-066e-4a00-b937-b4314a150048"
      },
      "execution_count": 16,
      "outputs": [
        {
          "output_type": "stream",
          "name": "stdout",
          "text": [
            "Bernoulii Naive Bayes f1_score:  0.4068224889450411\n",
            "LinearSVC f1_score:  0.525584333543904\n"
          ]
        }
      ]
    },
    {
      "cell_type": "markdown",
      "source": [
        "\n",
        "* **DO NOT FORGET TO DO THE ANALYSIS PART**\n",
        "\n",
        "### Explanation: \n",
        "- I am evaluating the performance of two different machine learning models, Bernoulli Naive Bayes and LinearSVC, on a test dataset. The purpose of this evaluation is to determine which model performs better at classifying the data into two categories, \"Negative\" and \"Positive\". \n",
        "- My code calls the \"model_Evaluate()\" function to calculates the F1-score for each model using the \"f1_score\" function. The F1-score is a measure of a model's accuracy that takes unti account both precison and recall, with a higher score indicating better performance. \n",
        "- Based on my output, the LinearSVC model has a higher F1-score than the Bernoulli Naive Bayes model. Thereforem the LinearSVC model is likely the better performing model for this classification task. However, it is important to note that this evaluation is specific to the test dataset and may not generalize to other datasets. \n"
      ],
      "metadata": {
        "id": "SfLL61850b1-"
      }
    },
    {
      "cell_type": "markdown",
      "source": [
        "### Discuss techniques you could use to improve your model if you had more time"
      ],
      "metadata": {
        "id": "Rz2jXJhO4sPB"
      }
    },
    {
      "cell_type": "markdown",
      "source": [
        "* There are several techniques that I can use to improve the performance of my model. These include feature engineering, hyperparameter tuning, ensemble learning, ... It is important to carefully evaluate the impact of each technique on the specific dataset and task to keep track of the changes to avoid overfitting. "
      ],
      "metadata": {
        "id": "rLr2jlic4wJU"
      }
    }
  ]
}